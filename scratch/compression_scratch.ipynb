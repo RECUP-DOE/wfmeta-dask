{
 "cells": [
  {
   "cell_type": "code",
   "execution_count": 1,
   "metadata": {},
   "outputs": [],
   "source": [
    "import pickle\n",
    "import sys\n",
    "\n",
    "sys.path.append('../')\n",
    "\n",
    "from dask_capture import extract_scheduler_metadata, extract_worker_xfer_metadata\n",
    "from dask_md_objs import TaskHandler"
   ]
  },
  {
   "cell_type": "code",
   "execution_count": 2,
   "metadata": {},
   "outputs": [
    {
     "ename": "TypeError",
     "evalue": "extract_scheduler_metadata() takes from 1 to 3 positional arguments but 4 were given",
     "output_type": "error",
     "traceback": [
      "\u001b[0;31m---------------------------------------------------------------------------\u001b[0m",
      "\u001b[0;31mTypeError\u001b[0m                                 Traceback (most recent call last)",
      "Cell \u001b[0;32mIn[2], line 8\u001b[0m\n\u001b[1;32m      5\u001b[0m worker_trans_file \u001b[38;5;241m=\u001b[39m \u001b[38;5;124mf\u001b[39m\u001b[38;5;124m\"\u001b[39m\u001b[38;5;124m../../data/\u001b[39m\u001b[38;5;132;01m{\u001b[39;00mexp_name\u001b[38;5;132;01m}\u001b[39;00m\u001b[38;5;124m/worker_transition.csv\u001b[39m\u001b[38;5;124m\"\u001b[39m\n\u001b[1;32m      7\u001b[0m th \u001b[38;5;241m=\u001b[39m TaskHandler()\n\u001b[0;32m----> 8\u001b[0m \u001b[43mextract_scheduler_metadata\u001b[49m\u001b[43m(\u001b[49m\u001b[43msched_trans_file\u001b[49m\u001b[43m,\u001b[49m\u001b[43m \u001b[49m\u001b[38;5;28;43;01mNone\u001b[39;49;00m\u001b[43m,\u001b[49m\u001b[43m \u001b[49m\u001b[43mdebug\u001b[49m\u001b[43m,\u001b[49m\u001b[43m \u001b[49m\u001b[43mth\u001b[49m\u001b[43m)\u001b[49m\n\u001b[1;32m      9\u001b[0m extract_worker_xfer_metadata(worker_xfer_file, \u001b[38;5;28;01mNone\u001b[39;00m, debug, th)\n\u001b[1;32m     11\u001b[0m \u001b[38;5;28;01mwith\u001b[39;00m \u001b[38;5;28mopen\u001b[39m(\u001b[38;5;124m'\u001b[39m\u001b[38;5;124mhandler.pickle\u001b[39m\u001b[38;5;124m'\u001b[39m, \u001b[38;5;124m'\u001b[39m\u001b[38;5;124mwb\u001b[39m\u001b[38;5;124m'\u001b[39m) \u001b[38;5;28;01mas\u001b[39;00m f:\n",
      "\u001b[0;31mTypeError\u001b[0m: extract_scheduler_metadata() takes from 1 to 3 positional arguments but 4 were given"
     ]
    }
   ],
   "source": [
    "debug = True\n",
    "exp_name = \"D2024-04-18_15:54:02_R1_W8\"\n",
    "sched_trans_file = f\"../../data/{exp_name}/scheduler_transition.csv\"\n",
    "worker_xfer_file = f\"../../data/{exp_name}/worker_transfer.csv\"\n",
    "worker_trans_file = f\"../../data/{exp_name}/worker_transition.csv\"\n",
    "\n",
    "th = TaskHandler()\n",
    "extract_scheduler_metadata(sched_trans_file, None, debug, th)\n",
    "extract_worker_xfer_metadata(worker_xfer_file, None, debug, th)\n",
    "\n",
    "with open('handler.pickle', 'wb') as f:\n",
    "    pickle.dump(th, f, pickle.HIGHEST_PROTOCOL)\n",
    "    # goes from 20MB down to 6MB; not awful\n",
    "    # raw files are 13MB (scheduler_transition.csv + worker_transfer.csv)"
   ]
  }
 ],
 "metadata": {
  "kernelspec": {
   "display_name": ".venv",
   "language": "python",
   "name": "python3"
  },
  "language_info": {
   "codemirror_mode": {
    "name": "ipython",
    "version": 3
   },
   "file_extension": ".py",
   "mimetype": "text/x-python",
   "name": "python",
   "nbconvert_exporter": "python",
   "pygments_lexer": "ipython3",
   "version": "3.8.13"
  }
 },
 "nbformat": 4,
 "nbformat_minor": 2
}

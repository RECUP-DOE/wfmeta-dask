{
 "cells": [
  {
   "cell_type": "code",
   "execution_count": 1,
   "metadata": {},
   "outputs": [],
   "source": [
    "import pandas as pd\n",
    "from enum import Enum, auto\n",
    "import datetime\n",
    "import numpy as np\n",
    "\n",
    "scheduler_file_loc = \"../../data/scheduler_transition.csv\""
   ]
  },
  {
   "cell_type": "markdown",
   "metadata": {},
   "source": [
    "## Questions:\n",
    "\n",
    "1. What is 'begins' and 'ends' in this?\n",
    "\n",
    "    answered: timestamps, just how I was checking if they were gt/lt didn't work\n",
    "\n",
    "2. What is the relationship between 'begins' and 'time'?"
   ]
  },
  {
   "cell_type": "code",
   "execution_count": 2,
   "metadata": {},
   "outputs": [],
   "source": [
    "class EventStates(Enum) :\n",
    "    FORGOTTEN = 'forgotten'\n",
    "    MEMORY = 'memory'\n",
    "    PROCESSING = 'processing'\n",
    "    QUEUED = 'queued'\n",
    "    RELEASED = 'released'\n",
    "    WAITING = 'waiting'"
   ]
  },
  {
   "cell_type": "code",
   "execution_count": 3,
   "metadata": {},
   "outputs": [],
   "source": [
    "sched_x = pd.read_csv(scheduler_file_loc)\n"
   ]
  },
  {
   "cell_type": "code",
   "execution_count": 4,
   "metadata": {},
   "outputs": [
    {
     "data": {
      "text/plain": [
       "Index(['Unnamed: 0', 'key', 'thread', 'worker', 'prefix', 'group', 'start',\n",
       "       'finish', 'stimulus_id', 'called_from', 'begins', 'ends', 'duration',\n",
       "       'size', 'time'],\n",
       "      dtype='object')"
      ]
     },
     "execution_count": 4,
     "metadata": {},
     "output_type": "execute_result"
    }
   ],
   "source": [
    "sched_x.columns"
   ]
  },
  {
   "cell_type": "code",
   "execution_count": 40,
   "metadata": {},
   "outputs": [
    {
     "name": "stdout",
     "output_type": "stream",
     "text": [
      "Unnamed: 0 : 394\n",
      "key : ('block-info-_map_read_frame-c50155175b03e4c1ec9664317841e345', 84, 0, 0, 0)\n",
      "thread : nan\n",
      "worker : nan\n",
      "prefix : block-info\n",
      "group : block-info-_map_read_frame-c50155175b03e4c1ec9664317841e345\n",
      "start : waiting\n",
      "finish : queued\n",
      "stimulus_id : update-graph-1713455680.1067564\n",
      "called_from : tcp://10.201.0.220:8786\n",
      "begins : nan\n",
      "ends : nan\n",
      "duration : nan\n",
      "size : nan\n",
      "time : 1713455681.7593625\n"
     ]
    }
   ],
   "source": [
    "def pretty_print_line(entry) :\n",
    "    for x in sched_x.columns :\n",
    "        print(\"{column_name} : {column_value}\".format(column_name = x, column_value = sched_x[x][entry]))\n",
    "\n",
    "pretty_print_line(394)"
   ]
  },
  {
   "cell_type": "code",
   "execution_count": null,
   "metadata": {},
   "outputs": [],
   "source": [
    "class Event :\n",
    "    def __init__() :\n",
    "        return"
   ]
  },
  {
   "cell_type": "code",
   "execution_count": 19,
   "metadata": {},
   "outputs": [
    {
     "name": "stdout",
     "output_type": "stream",
     "text": [
      "Time: 2024-04-18 11:54:41.430816\tStart: None\tEnds: None\n",
      "2024-04-18 11:54:41.430816\n"
     ]
    }
   ],
   "source": [
    "def create_scheduler_event(sched_line) :\n",
    "    start_state = EventStates(sched_line[\"start\"])\n",
    "    finish_state = EventStates(sched_line[\"finish\"])\n",
    "\n",
    "    time_datetime = datetime.datetime.fromtimestamp(sched_line[\"time\"])\n",
    "    if not np.isnan(sched_line['begins']) :\n",
    "        start_datetime = datetime.datetime.fromtimestamp(sched_line['begins'])\n",
    "    else :\n",
    "        start_datetime = None\n",
    "    if not np.isnan(sched_line['ends']) :\n",
    "        end_datetime = datetime.datetime.fromtimestamp(sched_line['ends'])\n",
    "    else : end_datetime = None\n",
    "\n",
    "    print(\"Time: {time}\\tStart: {start}\\tEnds: {ends}\".format(time=time_datetime, start=start_datetime, ends=end_datetime))\n",
    "    print(time_datetime)\n",
    "\n",
    "create_scheduler_event(sched_x.iloc(axis=0)[0])"
   ]
  },
  {
   "cell_type": "code",
   "execution_count": 44,
   "metadata": {},
   "outputs": [
    {
     "data": {
      "text/plain": [
       "(46396, 15)"
      ]
     },
     "execution_count": 44,
     "metadata": {},
     "output_type": "execute_result"
    }
   ],
   "source": [
    "sched_x.shape"
   ]
  },
  {
   "cell_type": "code",
   "execution_count": 11,
   "metadata": {},
   "outputs": [
    {
     "name": "stdout",
     "output_type": "stream",
     "text": [
      "Pos: 8911\tNeg: 0\tNAs: 37485\n"
     ]
    }
   ],
   "source": [
    "# Checking that beings is always g.t. ends, if not NaN.\n",
    "nas = 0\n",
    "negs = 0\n",
    "pos = 0\n",
    "for x in range(0, sched_x.shape[0]) :\n",
    "    if np.isnan(sched_x['begins'][x]) :\n",
    "        nas += 1\n",
    "    else :\n",
    "        if sched_x['ends'][x] - sched_x['begins'][x] < 0 :\n",
    "            negs += 1\n",
    "        else :\n",
    "            pos += 1\n",
    "\n",
    "print(\"Pos: {pos}\\tNeg: {neg}\\tNAs: {nas}\".format(pos=pos, neg=negs, nas=nas))"
   ]
  },
  {
   "cell_type": "code",
   "execution_count": 16,
   "metadata": {},
   "outputs": [
    {
     "name": "stdout",
     "output_type": "stream",
     "text": [
      "Gt: 653\tEq: 0\tLts: 8258\tNa: 37485\n"
     ]
    }
   ],
   "source": [
    "# Check whether begins always gt, eq of time\n",
    "gts = 0\n",
    "eqs = 0\n",
    "lts = 0\n",
    "nas = 0\n",
    "for x in range(0, sched_x.shape[0]) :\n",
    "    if not np.isnan(sched_x['begins'][x]) :\n",
    "        if sched_x['begins'][x] > sched_x['time'][x] :\n",
    "            gts += 1\n",
    "        elif sched_x['begins'][x] == sched_x['time'][x] :\n",
    "            eqs += 1\n",
    "        else :\n",
    "            lts += 1\n",
    "    else :\n",
    "        nas += 1\n",
    "\n",
    "print(\"Gt: {gt}\\tEq: {eq}\\tLts: {lt}\\tNa: {na}\".format(gt=gts, eq=eqs, lt=lts, na=nas))"
   ]
  },
  {
   "cell_type": "code",
   "execution_count": 45,
   "metadata": {},
   "outputs": [
    {
     "data": {
      "text/plain": [
       "called_from\n",
       "tcp://10.201.0.220:8786    46396\n",
       "Name: count, dtype: int64"
      ]
     },
     "execution_count": 45,
     "metadata": {},
     "output_type": "execute_result"
    }
   ],
   "source": [
    "sched_x['called_from'].value_counts()"
   ]
  },
  {
   "cell_type": "code",
   "execution_count": 11,
   "metadata": {},
   "outputs": [
    {
     "data": {
      "text/plain": [
       "{'forgotten', 'memory', 'processing', 'queued', 'released', 'waiting'}"
      ]
     },
     "execution_count": 11,
     "metadata": {},
     "output_type": "execute_result"
    }
   ],
   "source": [
    "states = set(sched_x['start'])\n",
    "for state in sched_x['finish'] :\n",
    "    states.add(state)\n",
    "states"
   ]
  },
  {
   "cell_type": "markdown",
   "metadata": {},
   "source": [
    "# Checking Called_From and Stimulus_ID\n",
    "\n",
    "Theoretically, there should be only one scheduler. Therefore, the called_from should always be the IP of that scheduler."
   ]
  },
  {
   "cell_type": "code",
   "execution_count": 6,
   "metadata": {},
   "outputs": [
    {
     "data": {
      "text/plain": [
       "{'tcp://10.201.0.220:8786'}"
      ]
     },
     "execution_count": 6,
     "metadata": {},
     "output_type": "execute_result"
    }
   ],
   "source": [
    "called_from = sched_x['called_from']\n",
    "set(called_from)"
   ]
  },
  {
   "cell_type": "markdown",
   "metadata": {},
   "source": [
    "Great, that's true in the test data. Now let's check what Stimulus_ID can look like."
   ]
  },
  {
   "cell_type": "code",
   "execution_count": 10,
   "metadata": {},
   "outputs": [
    {
     "data": {
      "text/plain": [
       "{'client-releases-keys', 'task-finished', 'update-graph'}"
      ]
     },
     "execution_count": 10,
     "metadata": {},
     "output_type": "execute_result"
    }
   ],
   "source": [
    "stimulus_id = sched_x[\"stimulus_id\"]\n",
    "stimulus_id = [\"-\".join(str(x).split(\"-\")[0:-1]) for x in list(set(stimulus_id))]\n",
    "set(stimulus_id)"
   ]
  },
  {
   "cell_type": "markdown",
   "metadata": {},
   "source": [
    "For what it's worth, looks like there's only 3 types of stimulus IDs:\n",
    "- client-releases-keys\n",
    "- task-finished\n",
    "- update-graph"
   ]
  }
 ],
 "metadata": {
  "kernelspec": {
   "display_name": "dask-capture",
   "language": "python",
   "name": "python3"
  },
  "language_info": {
   "codemirror_mode": {
    "name": "ipython",
    "version": 3
   },
   "file_extension": ".py",
   "mimetype": "text/x-python",
   "name": "python",
   "nbconvert_exporter": "python",
   "pygments_lexer": "ipython3",
   "version": "3.8.20"
  }
 },
 "nbformat": 4,
 "nbformat_minor": 2
}

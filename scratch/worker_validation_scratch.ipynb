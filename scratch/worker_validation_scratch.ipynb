{
 "cells": [
  {
   "cell_type": "code",
   "execution_count": 1,
   "metadata": {},
   "outputs": [],
   "source": [
    "import sys\n",
    "sys.path.insert(0,'..')\n",
    "\n",
    "import dask_md_objs as dmdo\n",
    "import pickle\n",
    "import numpy as np\n",
    "from typing import List"
   ]
  },
  {
   "cell_type": "code",
   "execution_count": 2,
   "metadata": {},
   "outputs": [],
   "source": [
    "dataloc = \"../../data/compressed_experimental_out.pickle\"\n",
    "data: dmdo.TaskHandler = None\n",
    "with open(dataloc, 'rb') as f:\n",
    "    data = pickle.load(f)"
   ]
  },
  {
   "cell_type": "code",
   "execution_count": 3,
   "metadata": {},
   "outputs": [],
   "source": [
    "incoming: List[dmdo.WXferEvent] = data.return_all_wxfer_events(dmdo.TransferTypeEnum.INCOMING)\n",
    "outgoing: List[dmdo.WXferEvent] = data.return_all_wxfer_events(dmdo.TransferTypeEnum.OUTGOING)"
   ]
  },
  {
   "cell_type": "code",
   "execution_count": 4,
   "metadata": {},
   "outputs": [
    {
     "name": "stdout",
     "output_type": "stream",
     "text": [
      "Returned lengths:\n",
      "INCOMING: 3731\t\tOUTGOING: 3247\n"
     ]
    }
   ],
   "source": [
    "print(\"Returned lengths:\\nINCOMING: {a}\\t\\tOUTGOING: {b}\".format(a=len(incoming), b=len(outgoing)))"
   ]
  },
  {
   "cell_type": "markdown",
   "metadata": {},
   "source": [
    "Need to ensure that every transfer is accounted for by both an incoming and an outgoing event. How is this represented?\n",
    "\n",
    "First, checking for an easy way out -- is every outgoing/incoming only ever representing 1 task?"
   ]
  },
  {
   "cell_type": "code",
   "execution_count": 5,
   "metadata": {},
   "outputs": [
    {
     "name": "stdout",
     "output_type": "stream",
     "text": [
      "2895\n",
      "352\n",
      "3365\n",
      "366\n"
     ]
    }
   ],
   "source": [
    "o_n_1_task = [o.is_only_1_task() for o in outgoing]\n",
    "print(o_n_1_task.count(True))\n",
    "print(o_n_1_task.count(False))\n",
    "i_n_1_task = [i.is_only_1_task() for i in incoming]\n",
    "print(i_n_1_task.count(True))\n",
    "print(i_n_1_task.count(False))"
   ]
  },
  {
   "cell_type": "markdown",
   "metadata": {},
   "source": [
    "Sadly, not -- both have instances where multiple tasks are implicated."
   ]
  },
  {
   "cell_type": "code",
   "execution_count": 6,
   "metadata": {},
   "outputs": [
    {
     "name": "stdout",
     "output_type": "stream",
     "text": [
      "Worker Transfer Event (Type: TransferTypeEnum.OUTGOING)\n",
      "\tEvent time: 2024-04-18 11:56:08.261950\n",
      "\tRequestor (Them): tcp://10.201.0.229:37485\tFulfiller (Me): tcp://10.201.0.212:38553\n",
      "\tStart: 2024-04-18 11:56:08.497757\tMiddle: 2024-04-18 11:56:08.220428\tEnd: 2024-04-18 11:56:08.509850\t(Duration: 0.012092113494873)\n",
      "\tTotal Transfer: 56\n",
      "\tAffiliated Keys:\n",
      "\t\tfinalize-6b762101-9963-45d6-9013-208550e52467\n",
      "\t\tfinalize-0201b5ac-c867-450e-a02d-084c45cb9afb\n",
      "\t\tfinalize-b6180e12-5d43-4e5d-86ed-136681ea0f5c\n",
      "\n"
     ]
    }
   ],
   "source": [
    "print(outgoing[0])"
   ]
  },
  {
   "cell_type": "code",
   "execution_count": 7,
   "metadata": {},
   "outputs": [
    {
     "name": "stdout",
     "output_type": "stream",
     "text": [
      "Worker Transfer Event (Type: TransferTypeEnum.INCOMING)\n",
      "\tEvent time: 2024-04-18 11:56:08.228087\n",
      "\tRequestor (Them): tcp://10.201.0.212:38553\tFulfiller (Me): tcp://10.201.0.229:37485\n",
      "\tStart: 2024-04-18 11:56:08.482332\tMiddle: 2024-04-18 11:56:08.488770\tEnd: 2024-04-18 11:56:08.495209\t(Duration: 0.0128772258758544)\n",
      "\tTotal Transfer: 56\n",
      "\tAffiliated Keys:\n",
      "\t\tfinalize-6b762101-9963-45d6-9013-208550e52467\n",
      "\t\tfinalize-0201b5ac-c867-450e-a02d-084c45cb9afb\n",
      "\t\tfinalize-b6180e12-5d43-4e5d-86ed-136681ea0f5c\n",
      "\n"
     ]
    }
   ],
   "source": [
    "print(incoming[0])"
   ]
  },
  {
   "cell_type": "markdown",
   "metadata": {},
   "source": [
    "Follow up question: there are more incoming than outgoing. Why? Are there duplicated events, with the only difference being the requestor or the fulfiller?"
   ]
  },
  {
   "cell_type": "code",
   "execution_count": 19,
   "metadata": {},
   "outputs": [],
   "source": [
    "mat_req: List[List[bool]] = []\n",
    "mat_ful: List[List[bool]] = []\n",
    "mat_all: List[List[bool]] = []\n",
    "counts_req_t: List[int] = []\n",
    "counts_ful_t: List[int] = []\n",
    "counts_all_t: List[int] = []\n",
    "for index, event in enumerate(incoming) :\n",
    "    mat_req.append([])\n",
    "    mat_ful.append([])\n",
    "    mat_all.append([])\n",
    "    for index2, event2 in enumerate(incoming[index+1:]) :\n",
    "        mat_req[index].append(event.identical_except_requestor(event2))\n",
    "        mat_ful[index].append(event.identical_except_fulfiller(event2))\n",
    "        mat_all[index].append(event == event2)\n",
    "    counts_req_t.append(mat_req[-1].count(True))\n",
    "    counts_ful_t.append(mat_ful[-1].count(True))\n",
    "    counts_all_t.append(mat_all[-1].count(True))"
   ]
  },
  {
   "cell_type": "code",
   "execution_count": 20,
   "metadata": {},
   "outputs": [
    {
     "name": "stdout",
     "output_type": "stream",
     "text": [
      "of 3731 requestor rows, 3731 had 0 Trues.\n",
      "of 3731 fulfiller rows, 3731 had 0 Trues.\n",
      "of 3731 all rows, 3731 had 0 Trues.\n"
     ]
    }
   ],
   "source": [
    "print(\"of {n} requestor rows, {m} had 0 Trues.\".format(n=len(counts_req_t), m=counts_req_t.count(0)))\n",
    "print(\"of {n} fulfiller rows, {m} had 0 Trues.\".format(n=len(counts_ful_t), m=counts_ful_t.count(0)))\n",
    "print(\"of {n} all rows, {m} had 0 Trues.\".format(n=len(counts_all_t), m=counts_all_t.count(0)))"
   ]
  },
  {
   "cell_type": "markdown",
   "metadata": {},
   "source": [
    "Follow up question: Do there exist cases where an incoming has an outgoing with reversed requestor/fulfiller?"
   ]
  },
  {
   "cell_type": "code",
   "execution_count": 21,
   "metadata": {},
   "outputs": [],
   "source": [
    "# this is going to be some horrifying code: for every incoming, check if there exists an outgoing with reversed fulfiller/requestor\n",
    "reversed_in_out = []\n",
    "for i in range(0, len(incoming)) :\n",
    "    for j in range(0, len(outgoing)) :\n",
    "        if incoming[i].fulfiller == outgoing[j].requestor and \\\n",
    "            incoming[i].requestor == outgoing[j].fulfiller :\n",
    "            reversed_in_out.append((incoming[i], outgoing[j]))"
   ]
  },
  {
   "cell_type": "code",
   "execution_count": 25,
   "metadata": {},
   "outputs": [
    {
     "name": "stdout",
     "output_type": "stream",
     "text": [
      "Of 12114557 possible matches, there were 226757 (0.02%) found pairs of matching incoming\\outgoing messages.\n"
     ]
    }
   ],
   "source": [
    "print(\"Of {n} possible matches, there were {m} ({o:0.2f}%) found pairs of matching incoming\\outgoing messages.\".format(n=len(incoming)*len(outgoing), m=len(reversed_in_out), o=len(reversed_in_out)/(len(incoming) * len(outgoing))))"
   ]
  },
  {
   "cell_type": "markdown",
   "metadata": {},
   "source": [
    "### Debugging Equivalency Tests\n",
    "\n",
    "Resolved now, but previously:\n",
    "\n",
    "`incoming[0].__eq__(incoming[0])` was returning `False`, but `outgoing[0].__eq__(outgoing[0])` was returning `True`. Did the exploration below; turns out that when `transfertype` was `TransferTypeEnum.INCOMING`, `compressed` is actually not provided, which results in `incoming[0].compressed` being `nan`. Importantly, `nan != nan`, so when `__eq__` checked if `self.compressed == other.compressed`, it was returning `False`.\n",
    "\n",
    "This has been resolved by changing all equivalency checks in `WXferEvent` to only check if `compressed` is equals when `self.transfertype == TransferTypeEnum.OUTGOING`."
   ]
  },
  {
   "cell_type": "code",
   "execution_count": 11,
   "metadata": {},
   "outputs": [
    {
     "name": "stdout",
     "output_type": "stream",
     "text": [
      "True\n",
      "True\n",
      "True\n",
      "True\n",
      "True\n",
      "True\n",
      "True\n",
      "False\n",
      "True\n",
      "True\n",
      "True\n",
      "True\n"
     ]
    }
   ],
   "source": [
    "print(incoming[0].start == incoming[0].start)\n",
    "print(incoming[0].stop == incoming[0].stop)\n",
    "print(incoming[0].middle == incoming[0].middle)\n",
    "print(incoming[0].duration == incoming[0].duration)\n",
    "print(incoming[0].keys == incoming[0].keys)\n",
    "print(incoming[0].total == incoming[0].total)\n",
    "print(incoming[0].bandwidth == incoming[0].bandwidth)\n",
    "print(incoming[0].compressed == incoming[0].compressed)\n",
    "print(incoming[0].requestor == incoming[0].requestor)\n",
    "print(incoming[0].fulfiller == incoming[0].fulfiller)\n",
    "print(incoming[0].transfer_type == incoming[0].transfer_type)\n",
    "print(incoming[0].time == incoming[0].time)"
   ]
  },
  {
   "cell_type": "code",
   "execution_count": 12,
   "metadata": {},
   "outputs": [
    {
     "name": "stdout",
     "output_type": "stream",
     "text": [
      "nan\n",
      "nan\n",
      "False\n"
     ]
    }
   ],
   "source": [
    "print(incoming[0].compressed)\n",
    "print(incoming[0].compressed)\n",
    "print(incoming[0].compressed == incoming[0].compressed)"
   ]
  },
  {
   "cell_type": "markdown",
   "metadata": {},
   "source": [
    "Issue is that compressed is not always defined, and `nan != nan`. Is there a pattern for when compressed is not defined?"
   ]
  },
  {
   "cell_type": "code",
   "execution_count": null,
   "metadata": {},
   "outputs": [
    {
     "name": "stdout",
     "output_type": "stream",
     "text": [
      "Number of incoming messages: 3731\t Nans: 3731\n",
      "Number of outgoing messages: 3247\t Nans: 0\n"
     ]
    }
   ],
   "source": [
    "n_nan_inc = [np.isnan(n) for n in [i.compressed for i in incoming]].count(True)\n",
    "n_nan_out = [np.isnan(n) for n in [o.compressed for o in outgoing]].count(True)\n",
    "\n",
    "print(\"Number of incoming messages: {n}\\t Nans: {m}\".format(n=len(incoming), m=n_nan_inc))\n",
    "print(\"Number of outgoing messages: {n}\\t Nans: {m}\".format(n=len(outgoing), m=n_nan_out))"
   ]
  },
  {
   "cell_type": "code",
   "execution_count": 14,
   "metadata": {},
   "outputs": [
    {
     "data": {
      "text/plain": [
       "True"
      ]
     },
     "execution_count": 14,
     "metadata": {},
     "output_type": "execute_result"
    }
   ],
   "source": [
    "outgoing[0].__eq__(outgoing[0])"
   ]
  },
  {
   "cell_type": "code",
   "execution_count": 15,
   "metadata": {},
   "outputs": [
    {
     "data": {
      "text/plain": [
       "True"
      ]
     },
     "execution_count": 15,
     "metadata": {},
     "output_type": "execute_result"
    }
   ],
   "source": [
    "incoming[0].__eq__(incoming[0])"
   ]
  }
 ],
 "metadata": {
  "kernelspec": {
   "display_name": ".venv",
   "language": "python",
   "name": "python3"
  },
  "language_info": {
   "codemirror_mode": {
    "name": "ipython",
    "version": 3
   },
   "file_extension": ".py",
   "mimetype": "text/x-python",
   "name": "python",
   "nbconvert_exporter": "python",
   "pygments_lexer": "ipython3",
   "version": "3.8.13"
  }
 },
 "nbformat": 4,
 "nbformat_minor": 2
}

{
 "cells": [
  {
   "cell_type": "code",
   "execution_count": 1,
   "metadata": {},
   "outputs": [],
   "source": [
    "import pandas as pd\n",
    "from typing import Dict\n",
    "from datetime import datetime\n",
    "from enum import Enum\n",
    "import numpy as np"
   ]
  },
  {
   "cell_type": "code",
   "execution_count": 1,
   "metadata": {},
   "outputs": [],
   "source": [
    "exp_name = \"D2024-04-18_15:54:02_R1_W8\"\n",
    "file_loc = \"../../data/{f}/worker_transfer.csv\".format(f=exp_name)"
   ]
  },
  {
   "cell_type": "code",
   "execution_count": 3,
   "metadata": {},
   "outputs": [],
   "source": [
    "dat = pd.read_csv(file_loc)"
   ]
  },
  {
   "cell_type": "code",
   "execution_count": 4,
   "metadata": {},
   "outputs": [
    {
     "data": {
      "text/html": [
       "<div>\n",
       "<style scoped>\n",
       "    .dataframe tbody tr th:only-of-type {\n",
       "        vertical-align: middle;\n",
       "    }\n",
       "\n",
       "    .dataframe tbody tr th {\n",
       "        vertical-align: top;\n",
       "    }\n",
       "\n",
       "    .dataframe thead th {\n",
       "        text-align: right;\n",
       "    }\n",
       "</style>\n",
       "<table border=\"1\" class=\"dataframe\">\n",
       "  <thead>\n",
       "    <tr style=\"text-align: right;\">\n",
       "      <th></th>\n",
       "      <th>Unnamed: 0</th>\n",
       "      <th>start</th>\n",
       "      <th>stop</th>\n",
       "      <th>middle</th>\n",
       "      <th>duration</th>\n",
       "      <th>keys</th>\n",
       "      <th>total</th>\n",
       "      <th>bandwidth</th>\n",
       "      <th>who</th>\n",
       "      <th>type</th>\n",
       "      <th>called_from</th>\n",
       "      <th>time</th>\n",
       "      <th>compressed</th>\n",
       "    </tr>\n",
       "  </thead>\n",
       "  <tbody>\n",
       "    <tr>\n",
       "      <th>0</th>\n",
       "      <td>0</td>\n",
       "      <td>1.713456e+09</td>\n",
       "      <td>1.713456e+09</td>\n",
       "      <td>1.713456e+09</td>\n",
       "      <td>0.025946</td>\n",
       "      <td>{('array-8838909ee9756e34565341881e2e6f0c', 12...</td>\n",
       "      <td>336</td>\n",
       "      <td>12949.784006</td>\n",
       "      <td>tcp://10.201.0.212:45449</td>\n",
       "      <td>incoming_transfer</td>\n",
       "      <td>tcp://10.201.0.212:38577</td>\n",
       "      <td>1.713456e+09</td>\n",
       "      <td>NaN</td>\n",
       "    </tr>\n",
       "    <tr>\n",
       "      <th>1</th>\n",
       "      <td>1</td>\n",
       "      <td>1.713456e+09</td>\n",
       "      <td>1.713456e+09</td>\n",
       "      <td>1.713456e+09</td>\n",
       "      <td>0.025946</td>\n",
       "      <td>{('array-8838909ee9756e34565341881e2e6f0c', 12...</td>\n",
       "      <td>336</td>\n",
       "      <td>12949.784006</td>\n",
       "      <td>tcp://10.201.0.212:45449</td>\n",
       "      <td>incoming_transfer</td>\n",
       "      <td>tcp://10.201.0.212:38577</td>\n",
       "      <td>1.713456e+09</td>\n",
       "      <td>NaN</td>\n",
       "    </tr>\n",
       "    <tr>\n",
       "      <th>2</th>\n",
       "      <td>2</td>\n",
       "      <td>1.713456e+09</td>\n",
       "      <td>1.713456e+09</td>\n",
       "      <td>1.713456e+09</td>\n",
       "      <td>0.030664</td>\n",
       "      <td>{('array-8838909ee9756e34565341881e2e6f0c', 11...</td>\n",
       "      <td>1344</td>\n",
       "      <td>43829.263669</td>\n",
       "      <td>tcp://10.201.0.212:45449</td>\n",
       "      <td>incoming_transfer</td>\n",
       "      <td>tcp://10.201.0.212:38577</td>\n",
       "      <td>1.713456e+09</td>\n",
       "      <td>NaN</td>\n",
       "    </tr>\n",
       "    <tr>\n",
       "      <th>3</th>\n",
       "      <td>3</td>\n",
       "      <td>1.713456e+09</td>\n",
       "      <td>1.713456e+09</td>\n",
       "      <td>1.713456e+09</td>\n",
       "      <td>0.029351</td>\n",
       "      <td>{('array-8838909ee9756e34565341881e2e6f0c', 11...</td>\n",
       "      <td>1344</td>\n",
       "      <td>45790.237645</td>\n",
       "      <td>tcp://10.201.0.212:38577</td>\n",
       "      <td>outgoing_transfer</td>\n",
       "      <td>tcp://10.201.0.212:45449</td>\n",
       "      <td>1.713456e+09</td>\n",
       "      <td>2533.0</td>\n",
       "    </tr>\n",
       "    <tr>\n",
       "      <th>4</th>\n",
       "      <td>4</td>\n",
       "      <td>1.713456e+09</td>\n",
       "      <td>1.713456e+09</td>\n",
       "      <td>1.713456e+09</td>\n",
       "      <td>0.039901</td>\n",
       "      <td>{('array-8838909ee9756e34565341881e2e6f0c', 87...</td>\n",
       "      <td>336</td>\n",
       "      <td>8420.737122</td>\n",
       "      <td>tcp://10.201.0.212:38553</td>\n",
       "      <td>incoming_transfer</td>\n",
       "      <td>tcp://10.201.0.212:34699</td>\n",
       "      <td>1.713456e+09</td>\n",
       "      <td>NaN</td>\n",
       "    </tr>\n",
       "  </tbody>\n",
       "</table>\n",
       "</div>"
      ],
      "text/plain": [
       "   Unnamed: 0         start          stop        middle  duration  \\\n",
       "0           0  1.713456e+09  1.713456e+09  1.713456e+09  0.025946   \n",
       "1           1  1.713456e+09  1.713456e+09  1.713456e+09  0.025946   \n",
       "2           2  1.713456e+09  1.713456e+09  1.713456e+09  0.030664   \n",
       "3           3  1.713456e+09  1.713456e+09  1.713456e+09  0.029351   \n",
       "4           4  1.713456e+09  1.713456e+09  1.713456e+09  0.039901   \n",
       "\n",
       "                                                keys  total     bandwidth  \\\n",
       "0  {('array-8838909ee9756e34565341881e2e6f0c', 12...    336  12949.784006   \n",
       "1  {('array-8838909ee9756e34565341881e2e6f0c', 12...    336  12949.784006   \n",
       "2  {('array-8838909ee9756e34565341881e2e6f0c', 11...   1344  43829.263669   \n",
       "3  {('array-8838909ee9756e34565341881e2e6f0c', 11...   1344  45790.237645   \n",
       "4  {('array-8838909ee9756e34565341881e2e6f0c', 87...    336   8420.737122   \n",
       "\n",
       "                        who               type               called_from  \\\n",
       "0  tcp://10.201.0.212:45449  incoming_transfer  tcp://10.201.0.212:38577   \n",
       "1  tcp://10.201.0.212:45449  incoming_transfer  tcp://10.201.0.212:38577   \n",
       "2  tcp://10.201.0.212:45449  incoming_transfer  tcp://10.201.0.212:38577   \n",
       "3  tcp://10.201.0.212:38577  outgoing_transfer  tcp://10.201.0.212:45449   \n",
       "4  tcp://10.201.0.212:38553  incoming_transfer  tcp://10.201.0.212:34699   \n",
       "\n",
       "           time  compressed  \n",
       "0  1.713456e+09         NaN  \n",
       "1  1.713456e+09         NaN  \n",
       "2  1.713456e+09         NaN  \n",
       "3  1.713456e+09      2533.0  \n",
       "4  1.713456e+09         NaN  "
      ]
     },
     "execution_count": 4,
     "metadata": {},
     "output_type": "execute_result"
    }
   ],
   "source": [
    "dat.head()"
   ]
  },
  {
   "cell_type": "code",
   "execution_count": 5,
   "metadata": {},
   "outputs": [
    {
     "data": {
      "text/plain": [
       "\"{('array-8838909ee9756e34565341881e2e6f0c', 116): 336, ('array-8838909ee9756e34565341881e2e6f0c', 100): 336, ('array-8838909ee9756e34565341881e2e6f0c', 108): 336, ('array-8838909ee9756e34565341881e2e6f0c', 92): 336}\""
      ]
     },
     "execution_count": 5,
     "metadata": {},
     "output_type": "execute_result"
    }
   ],
   "source": [
    "dat[\"keys\"][2]"
   ]
  },
  {
   "cell_type": "code",
   "execution_count": 6,
   "metadata": {},
   "outputs": [
    {
     "data": {
      "text/plain": [
       "keylen\n",
       "True     6260\n",
       "False     718\n",
       "Name: count, dtype: int64"
      ]
     },
     "execution_count": 6,
     "metadata": {},
     "output_type": "execute_result"
    }
   ],
   "source": [
    "def assert_keys_only_ever_1_long(dat) :\n",
    "    dat[\"keylen\"] = dat[\"keys\"].apply(lambda x: len(list(eval(x).keys())) == 1)\n",
    "\n",
    "assert_keys_only_ever_1_long(dat)\n",
    "dat[\"keylen\"].value_counts()"
   ]
  },
  {
   "cell_type": "code",
   "execution_count": 7,
   "metadata": {},
   "outputs": [
    {
     "name": "stdout",
     "output_type": "stream",
     "text": [
      "st_lt_mid\n",
      "True     4339\n",
      "False    2639\n",
      "Name: count, dtype: int64\n",
      "\n",
      "mid_lt_end\n",
      "True     6788\n",
      "False     190\n",
      "Name: count, dtype: int64\n",
      "\n",
      "st_lt_end\n",
      "True    6978\n",
      "Name: count, dtype: int64\n",
      "\n",
      "end_st_eq_dur\n",
      "False    6499\n",
      "True      479\n",
      "Name: count, dtype: int64\n",
      "\n",
      "Number of unexpected occurences: \n",
      "2829\n",
      "is_it_out_types_fault\n",
      "False    4149\n",
      "True     2829\n",
      "Name: count, dtype: int64\n",
      "\n",
      "is_it_in_types_fault\n",
      "False    6978\n",
      "Name: count, dtype: int64\n"
     ]
    }
   ],
   "source": [
    "dat[\"st_lt_mid\"] = dat.apply(lambda f:\n",
    "    True if (f.start < f.middle) else False,\n",
    "    axis=1)\n",
    "\n",
    "dat[\"mid_lt_end\"] = dat.apply(lambda f:\n",
    "    True if (f.middle < f.stop) else False,\n",
    "    axis=1)\n",
    "\n",
    "dat[\"st_lt_end\"] = dat.apply(lambda f:\n",
    "    True if (f.start < f.stop) else False,\n",
    "    axis=1)\n",
    "\n",
    "dat[\"end_st_eq_dur\"] = dat.apply(lambda f:\n",
    "    True if ((f.stop - f.start) == f.duration) else False,\n",
    "    axis=1)\n",
    "\n",
    "dat[\"is_it_out_types_fault\"] = dat.apply(lambda f: \n",
    "    True if ((not f[\"st_lt_mid\"]) | (not f[\"mid_lt_end\"])) & (f[\"type\"] == \"outgoing_transfer\") else False\n",
    "    , axis=1)\n",
    "dat[\"is_it_in_types_fault\"] = dat.apply(lambda f: \n",
    "    True if ((not f[\"st_lt_mid\"]) | (not f[\"mid_lt_end\"])) & (f[\"type\"] == \"incoming_transfer\") else False\n",
    "    , axis=1)\n",
    "print(dat[\"st_lt_mid\"].value_counts())\n",
    "print()\n",
    "print(dat[\"mid_lt_end\"].value_counts())\n",
    "print()\n",
    "print(dat[\"st_lt_end\"].value_counts())\n",
    "print()\n",
    "print(dat[\"end_st_eq_dur\"].value_counts())\n",
    "print()\n",
    "print(\"Number of unexpected occurences: \")\n",
    "print(dat[\"st_lt_mid\"].value_counts()[False] + dat[\"mid_lt_end\"].value_counts()[False])\n",
    "print(dat[\"is_it_out_types_fault\"].value_counts())\n",
    "print()\n",
    "print(dat[\"is_it_in_types_fault\"].value_counts())"
   ]
  },
  {
   "cell_type": "code",
   "execution_count": 8,
   "metadata": {},
   "outputs": [],
   "source": [
    "class TransferTypeEnum(Enum) :\n",
    "    INCOMING = 'incoming_transfer'\n",
    "    OUTGOING = 'outgoing_transfer'\n",
    "    \n",
    "class WXferEvent :\n",
    "    start: datetime\n",
    "    stop: datetime\n",
    "    middle: datetime\n",
    "    duration: float\n",
    "\n",
    "    keys: Dict[str,int]\n",
    "\n",
    "    total: int\n",
    "    bandwith: float\n",
    "    compressed: float\n",
    "\n",
    "    requestor: str # ip addr; who\n",
    "    fulfiller: str # called_from\n",
    "\n",
    "    transfer_type: TransferTypeEnum\n",
    "\n",
    "    time : datetime\n",
    "\n",
    "    def __init__(self, data) :\n",
    "        self.start = datetime.fromtimestamp(data['start'])\n",
    "        self.stop = datetime.fromtimestamp(data['stop'])\n",
    "        self.middle = datetime.fromtimestamp(data['middle'])\n",
    "        self.duration = data['duration']\n",
    "\n",
    "        self.keys = eval(data['keys'])\n",
    "\n",
    "        self.total = data['total']\n",
    "        self.bandwith = data['bandwidth']\n",
    "        self.compressed = data['compressed']\n",
    "\n",
    "        self.requestor = data['who']\n",
    "        self.fulfiller = data['called_from']\n",
    "\n",
    "        self.transfer_type = TransferTypeEnum(data['type'])\n",
    "\n",
    "        self.time = datetime.fromtimestamp(data['time'])\n",
    "    \n",
    "    def __str__(self) -> str :\n",
    "        out = \"Worker Transfer Event (Type: {t})\".format(t=self.transfer_type)\n",
    "        out += \"\\n\\tEvent time: {t}\".format(t=self.time)\n",
    "        out += \"\\n\\tRequestor (Them): {r}\\tFulfiller (Me): {f}\".format(r=self.requestor, f=self.fulfiller)\n",
    "        out += \"\\n\\tStart: {s}\\tMiddle: {m}\\tEnd: {e}\\t(Duration: {d})\".format(\n",
    "            s=self.start, m=self.middle, e=self.stop, d=self.duration\n",
    "        )\n",
    "        out += \"\\n\\tTotal Transfer: {t}\".format(t=self.total)\n",
    "        out += \"\\n\\tAffiliated Keys:\"\n",
    "        for key in self.keys :\n",
    "            out += \"\\n\\t\\t{k}\".format(k=key)\n",
    "        return out"
   ]
  },
  {
   "cell_type": "code",
   "execution_count": 9,
   "metadata": {},
   "outputs": [
    {
     "name": "stdout",
     "output_type": "stream",
     "text": [
      "Worker Transfer Event (Type: TransferTypeEnum.INCOMING)\n",
      "\tEvent time: 2024-04-18 11:54:44.762709\n",
      "\tRequestor (Them): tcp://10.201.0.212:45449\tFulfiller (Me): tcp://10.201.0.212:38577\n",
      "\tStart: 2024-04-18 11:54:44.735809\tMiddle: 2024-04-18 11:54:44.748782\tEnd: 2024-04-18 11:54:44.761756\t(Duration: 0.0259463787078857)\n",
      "\tTotal Transfer: 336\n",
      "\tAffiliated Keys:\n",
      "\t\t('array-8838909ee9756e34565341881e2e6f0c', 120)\n"
     ]
    }
   ],
   "source": [
    "r = WXferEvent(dat.iloc(axis=0)[0])\n",
    "print(r)"
   ]
  },
  {
   "cell_type": "code",
   "execution_count": 10,
   "metadata": {},
   "outputs": [
    {
     "name": "stdout",
     "output_type": "stream",
     "text": [
      "Worker Transfer Event (Type: TransferTypeEnum.INCOMING)\n",
      "\tEvent time: 2024-04-18 11:54:44.811011\n",
      "\tRequestor (Them): tcp://10.201.0.212:45449\tFulfiller (Me): tcp://10.201.0.212:38577\n",
      "\tStart: 2024-04-18 11:54:44.735809\tMiddle: 2024-04-18 11:54:44.748782\tEnd: 2024-04-18 11:54:44.761756\t(Duration: 0.0259463787078857)\n",
      "\tTotal Transfer: 336\n",
      "\tAffiliated Keys:\n",
      "\t\t('array-8838909ee9756e34565341881e2e6f0c', 120)\n"
     ]
    }
   ],
   "source": [
    "r = WXferEvent(dat.iloc(axis=0)[1])\n",
    "print(r)"
   ]
  },
  {
   "cell_type": "code",
   "execution_count": 11,
   "metadata": {},
   "outputs": [
    {
     "name": "stdout",
     "output_type": "stream",
     "text": [
      "Worker Transfer Event (Type: TransferTypeEnum.OUTGOING)\n",
      "\tEvent time: 2024-04-18 11:57:59.790403\n",
      "\tRequestor (Them): tcp://10.201.0.212:34699\tFulfiller (Me): tcp://10.201.0.212:45449\n",
      "\tStart: 2024-04-18 11:57:45.887894\tMiddle: 2024-04-18 11:57:45.822504\tEnd: 2024-04-18 11:57:45.890036\t(Duration: 0.0021421909332275)\n",
      "\tTotal Transfer: 4194304\n",
      "\tAffiliated Keys:\n",
      "\t\t('stack-b4b92b70b53be1d3b50e36696c31dac6', 48, 0, 0)\n"
     ]
    }
   ],
   "source": [
    "\n",
    "r = WXferEvent(dat.iloc(axis=0)[6977])\n",
    "print(r)"
   ]
  }
 ],
 "metadata": {
  "kernelspec": {
   "display_name": ".venv",
   "language": "python",
   "name": "python3"
  },
  "language_info": {
   "codemirror_mode": {
    "name": "ipython",
    "version": 3
   },
   "file_extension": ".py",
   "mimetype": "text/x-python",
   "name": "python",
   "nbconvert_exporter": "python",
   "pygments_lexer": "ipython3",
   "version": "3.8.13"
  }
 },
 "nbformat": 4,
 "nbformat_minor": 2
}
